{
 "cells": [
  {
   "cell_type": "code",
   "execution_count": 11,
   "id": "1b226c91-4d54-4b8d-ac20-1141a8a33303",
   "metadata": {},
   "outputs": [
    {
     "ename": "SyntaxError",
     "evalue": "invalid syntax (sub_menu.py, line 7)",
     "output_type": "error",
     "traceback": [
      "Traceback \u001b[1;36m(most recent call last)\u001b[0m:\n",
      "\u001b[0m  File \u001b[0;32m~\\anaconda3\\Lib\\site-packages\\IPython\\core\\interactiveshell.py:3553\u001b[0m in \u001b[0;35mrun_code\u001b[0m\n    exec(code_obj, self.user_global_ns, self.user_ns)\u001b[0m\n",
      "\u001b[1;36m  Cell \u001b[1;32mIn[11], line 4\u001b[1;36m\n\u001b[1;33m    import sub_menu\u001b[1;36m\n",
      "\u001b[1;36m  File \u001b[1;32m~\\OneDrive - Solent University\\Documents\\GitHub\\COM728-Assessment\\sub_menu.py:7\u001b[1;36m\u001b[0m\n\u001b[1;33m    pip install tabulate\u001b[0m\n\u001b[1;37m        ^\u001b[0m\n\u001b[1;31mSyntaxError\u001b[0m\u001b[1;31m:\u001b[0m invalid syntax\n"
     ]
    }
   ],
   "source": [
    "import csv\n",
    "import sys\n",
    "import sub_menu\n",
    "\n",
    "# Welcome message\n",
    "print(\"Welcome to the Python Application!\")\n",
    "\n",
    "# Function to display the menu\n",
    "def display_menu():\n",
    "    print(\"\\nMenu:\")\n",
    "    print(\"1. Option 1\")\n",
    "    print(\"2. Option 2\")\n",
    "    print(\"3. Exit\")\n",
    "\n",
    "# Main loop\n",
    "while True:\n",
    "    display_menu()\n",
    "    \n",
    "    # Get user input\n",
    "    choice = input(\"Enter your choice (1-3): \")\n",
    "    \n",
    "    # Handle user choices\n",
    "    if choice == \"1\":\n",
    "        sub_menu.display_sub_menu(csv_file)\n",
    "    elif choice == \"2\":\n",
    "        print(\"You selected Option 2\")\n",
    "    elif choice == \"3\":\n",
    "        print(\"Exiting the application...\")\n",
    "        break\n",
    "    else:\n",
    "        print(\"Invalid choice. Please try again.\")"
   ]
  },
  {
   "cell_type": "code",
   "execution_count": null,
   "id": "822e9533-a107-4dbc-9677-48cdc306248b",
   "metadata": {},
   "outputs": [],
   "source": []
  }
 ],
 "metadata": {
  "kernelspec": {
   "display_name": "Python 3 (ipykernel)",
   "language": "python",
   "name": "python3"
  },
  "language_info": {
   "codemirror_mode": {
    "name": "ipython",
    "version": 3
   },
   "file_extension": ".py",
   "mimetype": "text/x-python",
   "name": "python",
   "nbconvert_exporter": "python",
   "pygments_lexer": "ipython3",
   "version": "3.11.7"
  }
 },
 "nbformat": 4,
 "nbformat_minor": 5
}
