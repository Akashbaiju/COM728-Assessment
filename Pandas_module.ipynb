{
 "cells": [
  {
   "cell_type": "code",
   "execution_count": 24,
   "id": "ac68762b-2167-441f-89f0-e631866fc609",
   "metadata": {},
   "outputs": [
    {
     "name": "stdout",
     "output_type": "stream",
     "text": [
      "Data loaded successfully.\n",
      "\n",
      "Menu:\n",
      "1. Identify the top 3 levels of mother’s education for a specific race of students based on parental involvement levels.\n",
      "2. Analyse the average number of absences among students with a particular level of parental involvement.\n",
      "3. Exit\n"
     ]
    },
    {
     "name": "stdin",
     "output_type": "stream",
     "text": [
      "Enter your choice (1, 2, or 3):  1\n",
      "Enter the race you're interested in:  Asian\n",
      "Enter the parental involvement level (e.g., high, medium, low):  medium\n"
     ]
    },
    {
     "name": "stdout",
     "output_type": "stream",
     "text": [
      "Top 3 Mother's Education Levels for race 'asian' with 'medium' parental involvement:\n",
      "Mother_education_level \n",
      "primary (4th grade)    50\n",
      "none                   47\n",
      "secondary              47\n",
      "Name: count, dtype: int64\n",
      "\n",
      "Menu:\n",
      "1. Identify the top 3 levels of mother’s education for a specific race of students based on parental involvement levels.\n",
      "2. Analyse the average number of absences among students with a particular level of parental involvement.\n",
      "3. Exit\n"
     ]
    },
    {
     "name": "stdin",
     "output_type": "stream",
     "text": [
      "Enter your choice (1, 2, or 3):  2\n",
      "Enter the parental involvement level (e.g., high, medium, low):  low\n"
     ]
    },
    {
     "name": "stdout",
     "output_type": "stream",
     "text": [
      "The average number of absences for students with 'low' parental involvement is: 47.30\n",
      "\n",
      "Menu:\n",
      "1. Identify the top 3 levels of mother’s education for a specific race of students based on parental involvement levels.\n",
      "2. Analyse the average number of absences among students with a particular level of parental involvement.\n",
      "3. Exit\n"
     ]
    },
    {
     "name": "stdin",
     "output_type": "stream",
     "text": [
      "Enter your choice (1, 2, or 3):  3\n"
     ]
    },
    {
     "name": "stdout",
     "output_type": "stream",
     "text": [
      "Exiting the application.\n"
     ]
    }
   ],
   "source": [
    "import pandas as pd\n",
    "\n",
    "def load_data(file_path):\n",
    "    try:\n",
    "        df = pd.read_csv(file_path)\n",
    "        print(\"Data loaded successfully.\")\n",
    "        return df\n",
    "    except FileNotFoundError:\n",
    "        print(f\"Error: The file '{file_path}' was not found. Please check the file path and try again.\")\n",
    "        return None\n",
    "\n",
    "def top_mother_education_by_race(df, race, parental_involvement_level, top_n=3):\n",
    "    # Filter the data by the specified race and parental involvement level\n",
    "    filtered_df = df[(df['Race'].str.lower() == race.lower()) & \n",
    "                     (df['Parental_involvement'].str.lower() == parental_involvement_level.lower())]\n",
    "\n",
    "    # Group by mother's education level and count occurrences\n",
    "    education_counts = filtered_df['Mother_education_level '].value_counts().head(top_n)\n",
    "    \n",
    "    return education_counts\n",
    "\n",
    "def calculate_average_absences(df, parental_involvement_level):\n",
    "    # Filter the data by the specified parental involvement level\n",
    "    filtered_df = df[df['Parental_involvement'].str.lower() == parental_involvement_level.lower()]\n",
    "\n",
    "    if not filtered_df.empty:\n",
    "        # Calculate the average number of absences\n",
    "        average_absences = filtered_df['Absences'].mean()\n",
    "        return average_absences\n",
    "    else:\n",
    "        return None\n",
    "\n",
    "def main():\n",
    "    # Specify the path to your CSV file\n",
    "    file_path = 'students_data.csv'  # replace with your actual file path\n",
    "    \n",
    "    # Load the data\n",
    "    df = load_data(file_path)\n",
    "    \n",
    "    # Exit if the data could not be loaded\n",
    "    if df is None:\n",
    "        return\n",
    "    \n",
    "    while True:\n",
    "        # Display the menu\n",
    "        print(\"\\nMenu:\")\n",
    "        print(\"1. Identify the top 3 levels of mother’s education for a specific race of students based on parental involvement levels.\")\n",
    "        print(\"2. Analyse the average number of absences among students with a particular level of parental involvement.\")\n",
    "        print(\"3. Exit\")\n",
    "        \n",
    "        choice = input(\"Enter your choice (1, 2, or 3): \").strip()\n",
    "\n",
    "        if choice == '1':\n",
    "            # Query 1: Identify top 3 levels of mother's education\n",
    "            race = input(\"Enter the race you're interested in: \").strip().lower()\n",
    "            parental_involvement_level = input(\"Enter the parental involvement level (e.g., high, medium, low): \").strip()\n",
    "            \n",
    "            # Validate race input\n",
    "            valid_races = df['Race'].str.lower().unique()\n",
    "            if race not in valid_races:\n",
    "                print(f\"'{race}' is not a valid race. Please enter a valid race.\")\n",
    "                continue\n",
    "            \n",
    "            top_education_levels = top_mother_education_by_race(df, race, parental_involvement_level)\n",
    "            \n",
    "            # Display the results\n",
    "            if not top_education_levels.empty:\n",
    "                print(f\"Top 3 Mother's Education Levels for race '{race}' with '{parental_involvement_level}' parental involvement:\")\n",
    "                print(top_education_levels)\n",
    "            else:\n",
    "                print(f\"No data available for race '{race}' with '{parental_involvement_level}' parental involvement.\")\n",
    "\n",
    "        elif choice == '2':\n",
    "            # Query 2: Analyze average absences\n",
    "            parental_involvement_level = input(\"Enter the parental involvement level (e.g., high, medium, low): \").strip()\n",
    "            average_absences = calculate_average_absences(df, parental_involvement_level)\n",
    "            \n",
    "            # Display the result\n",
    "            if average_absences is not None:\n",
    "                print(f\"The average number of absences for students with '{parental_involvement_level}' parental involvement is: {average_absences:.2f}\")\n",
    "            else:\n",
    "                print(f\"No data available for parental involvement level '{parental_involvement_level}'.\")\n",
    "        \n",
    "        elif choice == '3':\n",
    "            print(\"Exiting the application.\")\n",
    "            break\n",
    "\n",
    "        else:\n",
    "            print(\"Invalid choice. Please select a valid option.\")\n",
    "\n",
    "if __name__ == \"__main__\":\n",
    "    main()\n"
   ]
  },
  {
   "cell_type": "code",
   "execution_count": 33,
   "id": "8419cf6c-9f1f-4fc1-b60b-408bd6609cb8",
   "metadata": {},
   "outputs": [
    {
     "name": "stdin",
     "output_type": "stream",
     "text": [
      "Enter the race to analyze (as it appears in the data):  Other\n"
     ]
    },
    {
     "name": "stdout",
     "output_type": "stream",
     "text": [
      "Average Math Score for students with attendance rate > 80% in race 'Other': 50.76682692307692\n"
     ]
    }
   ],
   "source": [
    "import pandas as pd\n",
    "\n",
    "# Load the CSV file\n",
    "file_path = 'students_data.csv'\n",
    "data = pd.read_csv(file_path)\n",
    "\n",
    "\n",
    "# Prompt the user to input the race\n",
    "input_race = input(\"Enter the race to analyze (as it appears in the data): \")\n",
    "\n",
    "# Filter the data for students with an attendance rate greater than 80% and the specified race\n",
    "filtered_data = data[(data['Attendance_rate'] > 80) & (data['Race'] == input_race)]\n",
    "\n",
    "# Calculate the average math score for the specified race\n",
    "average_math_score = filtered_data['Math_score'].mean()\n",
    "\n",
    "# Display the result\n",
    "if pd.notna(average_math_score):\n",
    "    print(f\"Average Math Score for students with attendance rate > 80% in race '{input_race}': {average_math_score}\")\n",
    "else:\n",
    "    print(f\"No data available for race '{input_race}' with attendance rate > 80%\")\n"
   ]
  },
  {
   "cell_type": "code",
   "execution_count": 42,
   "id": "386195f9-5299-415e-8b1d-bb8657aeaab0",
   "metadata": {},
   "outputs": [
    {
     "name": "stdin",
     "output_type": "stream",
     "text": [
      "Enter the sex to analyze (as it appears in the data):  Female\n"
     ]
    },
    {
     "name": "stdout",
     "output_type": "stream",
     "text": [
      "Average Math Score for Female students who study more than 2 hours: 46.142857142857146\n",
      "Correlation between Studytime and Math Score for Female students: 0.3152960091341355\n"
     ]
    }
   ],
   "source": [
    "import pandas as pd\n",
    "\n",
    "# Load the CSV file\n",
    "file_path = 'students_data.csv'\n",
    "data = pd.read_csv(file_path)\n",
    "\n",
    "\n",
    "# Prompt the user to input the sex\n",
    "input_sex = input(\"Enter the sex to analyze (as it appears in the data): \")\n",
    "\n",
    "# Define the study time threshold\n",
    "study_time_threshold = 2  # Adjust the threshold as needed\n",
    "\n",
    "# Filter the data for students who study more than the defined threshold hours and the specified sex\n",
    "filtered_data = data[(data['Studytime'] > study_time_threshold) & (data['Sex'] == input_sex)]\n",
    "\n",
    "# Calculate the average math score for the specified sex\n",
    "average_math_score = filtered_data['Math_score'].mean()\n",
    "\n",
    "# Calculate the correlation between study time and math score for the specified sex\n",
    "correlation = filtered_data['Studytime'].corr(filtered_data['Math_score'])\n",
    "\n",
    "# Display the results\n",
    "if not filtered_data.empty:\n",
    "    print(f\"Average Math Score for {input_sex} students who study more than {study_time_threshold} hours: {average_math_score}\")\n",
    "    print(f\"Correlation between Studytime and Math Score for {input_sex} students: {correlation}\")\n",
    "else:\n",
    "    print(f\"No data available for sex '{input_sex}' with study time > {study_time_threshold} hours\")\n",
    "\n"
   ]
  },
  {
   "cell_type": "code",
   "execution_count": null,
   "id": "bb4d657a-1ec7-4f14-8c8d-f863281561eb",
   "metadata": {},
   "outputs": [],
   "source": []
  }
 ],
 "metadata": {
  "kernelspec": {
   "display_name": "Python 3 (ipykernel)",
   "language": "python",
   "name": "python3"
  },
  "language_info": {
   "codemirror_mode": {
    "name": "ipython",
    "version": 3
   },
   "file_extension": ".py",
   "mimetype": "text/x-python",
   "name": "python",
   "nbconvert_exporter": "python",
   "pygments_lexer": "ipython3",
   "version": "3.11.7"
  }
 },
 "nbformat": 4,
 "nbformat_minor": 5
}
