{
 "cells": [
  {
   "cell_type": "code",
   "execution_count": 19,
   "id": "40a557bf-71e0-45e8-80ce-f3dc53a43c07",
   "metadata": {},
   "outputs": [
    {
     "name": "stdout",
     "output_type": "stream",
     "text": [
      "Data loaded successfully.\n"
     ]
    },
    {
     "name": "stdin",
     "output_type": "stream",
     "text": [
      "Enter the race you're interested in:  kddj\n"
     ]
    },
    {
     "name": "stdout",
     "output_type": "stream",
     "text": [
      "'kddj' is not a valid race. Please enter a valid race.\n"
     ]
    },
    {
     "name": "stdin",
     "output_type": "stream",
     "text": [
      "Enter the race you're interested in:  White\n",
      "Enter the parental involvement level (e.g., high, medium, low):  low\n"
     ]
    },
    {
     "name": "stdout",
     "output_type": "stream",
     "text": [
      "Top 3 Mother's Education Levels for race 'white' with 'low' parental involvement:\n",
      "Mother_education_level \n",
      "primary (4th grade)    50\n",
      "none                   46\n",
      "higher education       42\n",
      "Name: count, dtype: int64\n"
     ]
    }
   ],
   "source": [
    "import pandas as pd\n",
    "\n",
    "def load_data(file_path):\n",
    "    try:\n",
    "        df = pd.read_csv(file_path)\n",
    "        print(\"Data loaded successfully.\")\n",
    "        return df\n",
    "    except FileNotFoundError:\n",
    "        print(f\"Error: The file '{file_path}' was not found. Please check the file path and try again.\")\n",
    "        return None\n",
    "\n",
    "def top_mother_education_by_race(df, race, parental_involvement_level, top_n=3):\n",
    "    # Filter the data by the specified race and parental involvement level\n",
    "    filtered_df = df[(df['Race'].str.lower() == race.lower()) & \n",
    "                     (df['Parental_involvement'].str.lower() == parental_involvement_level.lower())]\n",
    "\n",
    "    # Group by mother's education level and count occurrences\n",
    "    education_counts = filtered_df['Mother_education_level '].value_counts().head(top_n)\n",
    "    \n",
    "    return education_counts\n",
    "\n",
    "def main():\n",
    "    # Specify the path to your CSV file\n",
    "    file_path = 'students_data.csv'  # replace with your actual file path\n",
    "    \n",
    "    # Load the data\n",
    "    df = load_data(file_path)\n",
    "    \n",
    "    # Exit if the data could not be loaded\n",
    "    if df is None:\n",
    "        return\n",
    "    \n",
    "    # Get unique races from the dataset\n",
    "    valid_races = df['Race'].str.lower().unique()\n",
    "\n",
    "    while True:\n",
    "        # Input race from user\n",
    "        race = input(\"Enter the race you're interested in: \").strip().lower()\n",
    "        \n",
    "        if race in valid_races:\n",
    "            break\n",
    "        else:\n",
    "            print(f\"'{race}' is not a valid race. Please enter a valid race.\")\n",
    "    \n",
    "    parental_involvement_level = input(\"Enter the parental involvement level (e.g., high, medium, low): \").strip()\n",
    "\n",
    "    # Get the top mother's education levels\n",
    "    top_education_levels = top_mother_education_by_race(df, race, parental_involvement_level)\n",
    "    \n",
    "    # Display the results\n",
    "    if not top_education_levels.empty:\n",
    "        print(f\"Top {len(top_education_levels)} Mother's Education Levels for race '{race}' with '{parental_involvement_level}' parental involvement:\")\n",
    "        print(top_education_levels)\n",
    "    else:\n",
    "        print(f\"No data available for race '{race}' with '{parental_involvement_level}' parental involvement.\")\n",
    "\n",
    "if __name__ == \"__main__\":\n",
    "    main()\n"
   ]
  },
  {
   "cell_type": "code",
   "execution_count": 22,
   "id": "09332d6d-ae84-491e-ad23-48d9565da35b",
   "metadata": {},
   "outputs": [
    {
     "name": "stdout",
     "output_type": "stream",
     "text": [
      "Data loaded successfully.\n"
     ]
    },
    {
     "name": "stdin",
     "output_type": "stream",
     "text": [
      "Enter the parental involvement level (e.g., high, medium, low):  medium\n"
     ]
    },
    {
     "name": "stdout",
     "output_type": "stream",
     "text": [
      "The average number of absences for students with 'medium' parental involvement is: 46.85\n"
     ]
    }
   ],
   "source": [
    "import pandas as pd\n",
    "\n",
    "def load_data(file_path):\n",
    "    try:\n",
    "        df = pd.read_csv(file_path)\n",
    "        print(\"Data loaded successfully.\")\n",
    "        return df\n",
    "    except FileNotFoundError:\n",
    "        print(f\"Error: The file '{file_path}' was not found. Please check the file path and try again.\")\n",
    "        return None\n",
    "\n",
    "def calculate_average_absences(df, parental_involvement_level):\n",
    "    # Filter the data by the specified parental involvement level\n",
    "    filtered_df = df[df['Parental_involvement'].str.lower() == parental_involvement_level.lower()]\n",
    "\n",
    "    if not filtered_df.empty:\n",
    "        # Calculate the average number of absences\n",
    "        average_absences = filtered_df['Absences'].mean()\n",
    "        return average_absences\n",
    "    else:\n",
    "        return None\n",
    "\n",
    "def main():\n",
    "    # Specify the path to your CSV file\n",
    "    file_path = 'students_data.csv'  # replace with your actual file path\n",
    "    \n",
    "    # Load the data\n",
    "    df = load_data(file_path)\n",
    "    \n",
    "    # Exit if the data could not be loaded\n",
    "    if df is None:\n",
    "        return\n",
    "    \n",
    "    # Input parental involvement level from user\n",
    "    parental_involvement_level = input(\"Enter the parental involvement level (e.g., high, medium, low): \").strip()\n",
    "\n",
    "    # Calculate the average absences\n",
    "    average_absences = calculate_average_absences(df, parental_involvement_level)\n",
    "    \n",
    "    # Display the result\n",
    "    if average_absences is not None:\n",
    "        print(f\"The average number of absences for students with '{parental_involvement_level}' parental involvement is: {average_absences:.2f}\")\n",
    "    else:\n",
    "        print(f\"No data available for parental involvement level '{parental_involvement_level}'.\")\n",
    "\n",
    "if __name__ == \"__main__\":\n",
    "    main()\n"
   ]
  },
  {
   "cell_type": "code",
   "execution_count": null,
   "id": "ac68762b-2167-441f-89f0-e631866fc609",
   "metadata": {},
   "outputs": [],
   "source": []
  }
 ],
 "metadata": {
  "kernelspec": {
   "display_name": "Python 3 (ipykernel)",
   "language": "python",
   "name": "python3"
  },
  "language_info": {
   "codemirror_mode": {
    "name": "ipython",
    "version": 3
   },
   "file_extension": ".py",
   "mimetype": "text/x-python",
   "name": "python",
   "nbconvert_exporter": "python",
   "pygments_lexer": "ipython3",
   "version": "3.11.7"
  }
 },
 "nbformat": 4,
 "nbformat_minor": 5
}
