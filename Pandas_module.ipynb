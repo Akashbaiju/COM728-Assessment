{
 "cells": [
  {
   "cell_type": "code",
   "execution_count": 44,
   "id": "7bf9c396-3b9b-423c-a435-e53a1efe51ab",
   "metadata": {},
   "outputs": [
    {
     "name": "stdout",
     "output_type": "stream",
     "text": [
      "Data loaded successfully.\n",
      "\n",
      "Menu:\n",
      "1. Identify the top 3 levels of mother’s education for a specific race of students based on parental involvement levels.\n",
      "2. Analyze the average number of absences among students with a particular level of parental involvement.\n",
      "3. Analyze average math scores for students with attendance rate > 80% based on race.\n",
      "4. Analyze study time and math scores by sex.\n",
      "5. Exit\n"
     ]
    },
    {
     "name": "stdin",
     "output_type": "stream",
     "text": [
      "Enter your choice (1, 2, 3, 4, or 5):  1\n",
      "Enter the race you're interested in:  Asian\n",
      "Enter the parental involvement level (e.g., high, medium, low):  high\n"
     ]
    },
    {
     "name": "stdout",
     "output_type": "stream",
     "text": [
      "Top 3 Mother's Education Levels for race 'asian' with 'high' parental involvement:\n",
      "Mother_education_level \n",
      "primary (4th grade)        46\n",
      "higher education           42\n",
      "primary (5th-9th grade)    38\n",
      "Name: count, dtype: int64\n",
      "\n",
      "Menu:\n",
      "1. Identify the top 3 levels of mother’s education for a specific race of students based on parental involvement levels.\n",
      "2. Analyze the average number of absences among students with a particular level of parental involvement.\n",
      "3. Analyze average math scores for students with attendance rate > 80% based on race.\n",
      "4. Analyze study time and math scores by sex.\n",
      "5. Exit\n"
     ]
    },
    {
     "name": "stdin",
     "output_type": "stream",
     "text": [
      "Enter your choice (1, 2, 3, 4, or 5):  2\n",
      "Enter the parental involvement level (e.g., high, medium, low):  medium\n"
     ]
    },
    {
     "name": "stdout",
     "output_type": "stream",
     "text": [
      "The average number of absences for students with 'medium' parental involvement is: 46.85\n",
      "\n",
      "Menu:\n",
      "1. Identify the top 3 levels of mother’s education for a specific race of students based on parental involvement levels.\n",
      "2. Analyze the average number of absences among students with a particular level of parental involvement.\n",
      "3. Analyze average math scores for students with attendance rate > 80% based on race.\n",
      "4. Analyze study time and math scores by sex.\n",
      "5. Exit\n"
     ]
    },
    {
     "name": "stdin",
     "output_type": "stream",
     "text": [
      "Enter your choice (1, 2, 3, 4, or 5):  3\n",
      "Enter the race to analyze (as it appears in the data):  Others\n"
     ]
    },
    {
     "name": "stdout",
     "output_type": "stream",
     "text": [
      "No data available for race 'Others' with attendance rate > 80%\n",
      "\n",
      "Menu:\n",
      "1. Identify the top 3 levels of mother’s education for a specific race of students based on parental involvement levels.\n",
      "2. Analyze the average number of absences among students with a particular level of parental involvement.\n",
      "3. Analyze average math scores for students with attendance rate > 80% based on race.\n",
      "4. Analyze study time and math scores by sex.\n",
      "5. Exit\n"
     ]
    },
    {
     "name": "stdin",
     "output_type": "stream",
     "text": [
      "Enter your choice (1, 2, 3, 4, or 5):  3\n",
      "Enter the race to analyze (as it appears in the data):  White\n"
     ]
    },
    {
     "name": "stdout",
     "output_type": "stream",
     "text": [
      "Average Math Score for students with attendance rate > 80% in race 'White': 48.88235294117647\n",
      "\n",
      "Menu:\n",
      "1. Identify the top 3 levels of mother’s education for a specific race of students based on parental involvement levels.\n",
      "2. Analyze the average number of absences among students with a particular level of parental involvement.\n",
      "3. Analyze average math scores for students with attendance rate > 80% based on race.\n",
      "4. Analyze study time and math scores by sex.\n",
      "5. Exit\n"
     ]
    },
    {
     "name": "stdin",
     "output_type": "stream",
     "text": [
      "Enter your choice (1, 2, 3, 4, or 5):  4\n",
      "Enter the sex to analyze (as it appears in the data):  Male\n"
     ]
    },
    {
     "name": "stdout",
     "output_type": "stream",
     "text": [
      "Average Math Score for Male students who study more than 2 hours: 49.76612377850163\n",
      "Correlation between Studytime and Math Score for Male students: -0.011869566524000985\n",
      "\n",
      "Menu:\n",
      "1. Identify the top 3 levels of mother’s education for a specific race of students based on parental involvement levels.\n",
      "2. Analyze the average number of absences among students with a particular level of parental involvement.\n",
      "3. Analyze average math scores for students with attendance rate > 80% based on race.\n",
      "4. Analyze study time and math scores by sex.\n",
      "5. Exit\n"
     ]
    },
    {
     "name": "stdin",
     "output_type": "stream",
     "text": [
      "Enter your choice (1, 2, 3, 4, or 5):  5\n"
     ]
    },
    {
     "name": "stdout",
     "output_type": "stream",
     "text": [
      "Exiting the application.\n"
     ]
    }
   ],
   "source": [
    "import pandas as pd\n",
    "\n",
    "def load_data(file_path):\n",
    "    try:\n",
    "        df = pd.read_csv(file_path)\n",
    "        print(\"Data loaded successfully.\")\n",
    "        return df\n",
    "    except FileNotFoundError:\n",
    "        print(f\"Error: The file '{file_path}' was not found. Please check the file path and try again.\")\n",
    "        return None\n",
    "\n",
    "def top_mother_education_by_race(df, race, parental_involvement_level, top_n=3):\n",
    "    # Filter the data by the specified race and parental involvement level\n",
    "    filtered_df = df[(df['Race'].str.lower() == race.lower()) & \n",
    "                     (df['Parental_involvement'].str.lower() == parental_involvement_level.lower())]\n",
    "\n",
    "    # Group by mother's education level and count occurrences\n",
    "    education_counts = filtered_df['Mother_education_level '].value_counts().head(top_n)\n",
    "    \n",
    "    return education_counts\n",
    "\n",
    "def calculate_average_absences(df, parental_involvement_level):\n",
    "    # Filter the data by the specified parental involvement level\n",
    "    filtered_df = df[df['Parental_involvement'].str.lower() == parental_involvement_level.lower()]\n",
    "\n",
    "    if not filtered_df.empty:\n",
    "        # Calculate the average number of absences\n",
    "        average_absences = filtered_df['Absences'].mean()\n",
    "        return average_absences\n",
    "    else:\n",
    "        return None\n",
    "\n",
    "def analyze_math_scores_by_race(df):\n",
    "    # Prompt the user to input the race\n",
    "    input_race = input(\"Enter the race to analyze (as it appears in the data): \").strip()\n",
    "\n",
    "    # Filter the data for students with an attendance rate greater than 80% and the specified race\n",
    "    filtered_data = df[(df['Attendance_rate'] > 80) & (df['Race'].str.lower() == input_race.lower())]\n",
    "\n",
    "    # Calculate the average math score for the specified race\n",
    "    average_math_score = filtered_data['Math_score'].mean()\n",
    "\n",
    "    # Display the result\n",
    "    if pd.notna(average_math_score):\n",
    "        print(f\"Average Math Score for students with attendance rate > 80% in race '{input_race}': {average_math_score}\")\n",
    "    else:\n",
    "        print(f\"No data available for race '{input_race}' with attendance rate > 80%\")\n",
    "\n",
    "def analyze_studytime_by_sex(df):\n",
    "    # Prompt the user to input the sex\n",
    "    input_sex = input(\"Enter the sex to analyze (as it appears in the data): \").strip()\n",
    "\n",
    "    # Define the study time threshold\n",
    "    study_time_threshold = 2  # Adjust the threshold as needed\n",
    "\n",
    "    # Filter the data for students who study more than the defined threshold hours and the specified sex\n",
    "    filtered_data = df[(df['Studytime'] > study_time_threshold) & (df['Sex'].str.lower() == input_sex.lower())]\n",
    "\n",
    "    # Calculate the average math score for the specified sex\n",
    "    average_math_score = filtered_data['Math_score'].mean()\n",
    "\n",
    "    # Calculate the correlation between study time and math score for the specified sex\n",
    "    correlation = filtered_data['Studytime'].corr(filtered_data['Math_score'])\n",
    "\n",
    "    # Display the results\n",
    "    if not filtered_data.empty:\n",
    "        print(f\"Average Math Score for {input_sex} students who study more than {study_time_threshold} hours: {average_math_score}\")\n",
    "        print(f\"Correlation between Studytime and Math Score for {input_sex} students: {correlation}\")\n",
    "    else:\n",
    "        print(f\"No data available for sex '{input_sex}' with study time > {study_time_threshold} hours\")\n",
    "\n",
    "def main():\n",
    "    # Specify the path to your CSV file\n",
    "    file_path = 'students_data.csv'  # replace with your actual file path\n",
    "    \n",
    "    # Load the data\n",
    "    df = load_data(file_path)\n",
    "    \n",
    "    # Exit if the data could not be loaded\n",
    "    if df is None:\n",
    "        return\n",
    "    \n",
    "    while True:\n",
    "        # Display the menu\n",
    "        print(\"\\nMenu:\")\n",
    "        print(\"1. Identify the top 3 levels of mother’s education for a specific race of students based on parental involvement levels.\")\n",
    "        print(\"2. Analyze the average number of absences among students with a particular level of parental involvement.\")\n",
    "        print(\"3. Analyze average math scores for students with attendance rate > 80% based on race.\")\n",
    "        print(\"4. Analyze study time and math scores by sex.\")\n",
    "        print(\"5. Exit\")\n",
    "        \n",
    "        choice = input(\"Enter your choice (1, 2, 3, 4, or 5): \").strip()\n",
    "\n",
    "        if choice == '1':\n",
    "            # Query 1: Identify top 3 levels of mother's education\n",
    "            race = input(\"Enter the race you're interested in: \").strip().lower()\n",
    "            parental_involvement_level = input(\"Enter the parental involvement level (e.g., high, medium, low): \").strip()\n",
    "            \n",
    "            # Validate race input\n",
    "            valid_races = df['Race'].str.lower().unique()\n",
    "            if race not in valid_races:\n",
    "                print(f\"'{race}' is not a valid race. Please enter a valid race.\")\n",
    "                continue\n",
    "            \n",
    "            top_education_levels = top_mother_education_by_race(df, race, parental_involvement_level)\n",
    "            \n",
    "            # Display the results\n",
    "            if not top_education_levels.empty:\n",
    "                print(f\"Top 3 Mother's Education Levels for race '{race}' with '{parental_involvement_level}' parental involvement:\")\n",
    "                print(top_education_levels)\n",
    "            else:\n",
    "                print(f\"No data available for race '{race}' with '{parental_involvement_level}' parental involvement.\")\n",
    "\n",
    "        elif choice == '2':\n",
    "            # Query 2: Analyze average absences\n",
    "            parental_involvement_level = input(\"Enter the parental involvement level (e.g., high, medium, low): \").strip()\n",
    "            average_absences = calculate_average_absences(df, parental_involvement_level)\n",
    "            \n",
    "            # Display the result\n",
    "            if average_absences is not None:\n",
    "                print(f\"The average number of absences for students with '{parental_involvement_level}' parental involvement is: {average_absences:.2f}\")\n",
    "            else:\n",
    "                print(f\"No data available for parental involvement level '{parental_involvement_level}'.\")\n",
    "\n",
    "        elif choice == '3':\n",
    "            # Query 3: Analyze average math scores for students with attendance rate > 80% based on race\n",
    "            analyze_math_scores_by_race(df)\n",
    "\n",
    "        elif choice == '4':\n",
    "            # Query 4: Analyze study time and math scores by sex\n",
    "            analyze_studytime_by_sex(df)\n",
    "\n",
    "        elif choice == '5':\n",
    "            print(\"Exiting the application.\")\n",
    "            break\n",
    "\n",
    "        else:\n",
    "            print(\"Invalid choice. Please select a valid option.\")\n",
    "\n",
    "if __name__ == \"__main__\":\n",
    "    main()\n"
   ]
  },
  {
   "cell_type": "code",
   "execution_count": null,
   "id": "9973fdfc-9c7f-4c1f-b2c0-7dda143df9a1",
   "metadata": {},
   "outputs": [],
   "source": []
  }
 ],
 "metadata": {
  "kernelspec": {
   "display_name": "Python 3 (ipykernel)",
   "language": "python",
   "name": "python3"
  },
  "language_info": {
   "codemirror_mode": {
    "name": "ipython",
    "version": 3
   },
   "file_extension": ".py",
   "mimetype": "text/x-python",
   "name": "python",
   "nbconvert_exporter": "python",
   "pygments_lexer": "ipython3",
   "version": "3.11.7"
  }
 },
 "nbformat": 4,
 "nbformat_minor": 5
}
