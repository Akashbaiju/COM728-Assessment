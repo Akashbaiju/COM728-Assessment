{
 "cells": [
  {
   "cell_type": "code",
   "execution_count": 2,
   "id": "a1d53b48-2678-43a8-b70c-cd7189f9ddc5",
   "metadata": {},
   "outputs": [
    {
     "name": "stdout",
     "output_type": "stream",
     "text": [
      "Requirement already satisfied: pyfiglet in c:\\users\\akash\\anaconda3\\lib\\site-packages (1.0.2)\n"
     ]
    }
   ],
   "source": [
    "!pip install pyfiglet"
   ]
  },
  {
   "cell_type": "code",
   "execution_count": null,
   "id": "b46a6adc-0dc3-4356-aa03-f4b69f280bde",
   "metadata": {},
   "outputs": [
    {
     "name": "stdout",
     "output_type": "stream",
     "text": [
      "\u001b[30m +-+-+-+-+-+-+-+ +-+-+ +-+-+-+ +-+-+-+-+-+-+-+ +-+-+-+-+ +-+-+-+-+-+-+-+-+-+-+\n",
      " |W|e|l|c|o|m|e| |t|o| |t|h|e| |S|t|u|d|e|n|t| |D|a|t|a| |M|a|n|a|g|e|m|e|n|t|\n",
      " +-+-+-+-+-+-+-+ +-+-+ +-+-+-+ +-+-+-+-+-+-+-+ +-+-+-+-+ +-+-+-+-+-+-+-+-+-+-+\n",
      "+-+-+-+-+-+-+\n",
      "|S|y|s|t|e|m|\n",
      "+-+-+-+-+-+-+\n",
      "\u001b[0m\n"
     ]
    },
    {
     "name": "stdin",
     "output_type": "stream",
     "text": [
      "Please enter the path to the CSV file (or 'exit' to quit):  jhygvg\n"
     ]
    },
    {
     "name": "stdout",
     "output_type": "stream",
     "text": [
      "Error: File not found. Please try again.\n"
     ]
    },
    {
     "name": "stdin",
     "output_type": "stream",
     "text": [
      "Please enter the path to the CSV file (or 'exit' to quit):  cvcvvbbl;i099\n"
     ]
    },
    {
     "name": "stdout",
     "output_type": "stream",
     "text": [
      "Error: File not found. Please try again.\n"
     ]
    }
   ],
   "source": [
    "import csv\n",
    "import sys\n",
    "from pyfiglet import Figlet\n",
    "import sub_menu  # Ensure you have sub_menu.py in the same directory\n",
    "\n",
    "# Initialize Figlet for stylized text\n",
    "figlet = Figlet(font='digital')\n",
    "\n",
    "# Function to print black figlet text\n",
    "def print_black_figlet(text):\n",
    "    print('\\033[30m' + figlet.renderText(text) + '\\033[0m')  # 30m is the ANSI code for black\n",
    "\n",
    "# Display welcome message in black\n",
    "print_black_figlet(\" Welcome to the Student Data Management System\")\n",
    "\n",
    "while True:\n",
    "    # Get the CSV file path from the user\n",
    "    csv_file = input(\"Please enter the path to the CSV file (or 'exit' to quit): \")\n",
    "    if csv_file.lower() == 'exit':\n",
    "        print(figlet.renderText(\"Thank You!\"))\n",
    "        print(\"Exiting the application...\")\n",
    "        sys.exit(0)\n",
    "\n",
    "    try:\n",
    "        with open(csv_file, 'r') as file:\n",
    "            reader = csv.reader(file)\n",
    "            next(reader)  # Skip the header row\n",
    "            print(f\"CSV file '{csv_file}' loaded successfully.\")\n",
    "\n",
    "            # Display the menu options\n",
    "            def display_menu():\n",
    "                print(\"\\nChoose the correct menu:\")\n",
    "                print(\"1. Retrieving the students data\")\n",
    "                print(\"2. Advanced Student Data Analysis Using Pandas\")\n",
    "                print(\"3. Visualization of the students Data\")\n",
    "                print(\"4. Exit\")\n",
    "\n",
    "            while True:\n",
    "                display_menu()\n",
    "\n",
    "                # Get user input for the chosen option\n",
    "                try:\n",
    "                    query = int(input(\"Enter your Query (1-4): \"))\n",
    "\n",
    "                    # Handle the user's choice\n",
    "                    if query == 1:\n",
    "                        sub_menu.display_sub_menu(csv_file)\n",
    "                    elif query == 2:\n",
    "                        print(\"Advanced Student Data Analysis Using Pandas\")\n",
    "                        # Add code to display the data from the CSV file\n",
    "                    elif query == 3:\n",
    "                        print(\"Visualization of the students data...\")\n",
    "                        # Add code to search and display the data from the CSV file\n",
    "                    elif query == 4:\n",
    "                        print(figlet.renderText(\"Thank You!\"))\n",
    "                        print(\"Exiting the application...\")\n",
    "                        sys.exit(0)\n",
    "                    else:\n",
    "                        print(\"Invalid Query. Please try again.\")\n",
    "                except ValueError:\n",
    "                    print(\"Error: Please enter a valid number (1-4).\")\n",
    "                except KeyboardInterrupt:\n",
    "                    print(\"\\nApplication interrupted. Exiting...\")\n",
    "                    sys.exit(0)\n",
    "                except Exception as e:\n",
    "                    print(f\"An error occurred: {e}\")\n",
    "                    print(\"Please try again later.\")\n",
    "\n",
    "    except FileNotFoundError:\n",
    "        print(\"Error: File not found. Please try again.\")\n",
    "    except Exception as e:\n",
    "        print(f\"An error occurred: {e}\")\n",
    "        print(\"Please try again later.\")\n"
   ]
  },
  {
   "cell_type": "code",
   "execution_count": null,
   "id": "68b94cc8-887d-409c-b4bf-86fb754ee0b8",
   "metadata": {},
   "outputs": [],
   "source": []
  },
  {
   "cell_type": "code",
   "execution_count": null,
   "id": "cc6d98a8-5610-4cd9-87d5-74f0a6a20998",
   "metadata": {},
   "outputs": [],
   "source": []
  }
 ],
 "metadata": {
  "kernelspec": {
   "display_name": "Python 3 (ipykernel)",
   "language": "python",
   "name": "python3"
  },
  "language_info": {
   "codemirror_mode": {
    "name": "ipython",
    "version": 3
   },
   "file_extension": ".py",
   "mimetype": "text/x-python",
   "name": "python",
   "nbconvert_exporter": "python",
   "pygments_lexer": "ipython3",
   "version": "3.11.7"
  }
 },
 "nbformat": 4,
 "nbformat_minor": 5
}
