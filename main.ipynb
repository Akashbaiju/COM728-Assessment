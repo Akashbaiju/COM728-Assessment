{
 "cells": [
  {
   "cell_type": "code",
   "execution_count": 2,
   "id": "a1d53b48-2678-43a8-b70c-cd7189f9ddc5",
   "metadata": {},
   "outputs": [
    {
     "name": "stdout",
     "output_type": "stream",
     "text": [
      "Requirement already satisfied: pyfiglet in c:\\users\\akash\\anaconda3\\lib\\site-packages (1.0.2)\n"
     ]
    }
   ],
   "source": [
    "!pip install pyfiglet"
   ]
  },
  {
   "cell_type": "code",
   "execution_count": 17,
   "id": "afd3766b-bdda-48f8-99a3-9886b149ca88",
   "metadata": {},
   "outputs": [
    {
     "name": "stdout",
     "output_type": "stream",
     "text": [
      "\u001b[30m+-+-+-+-+-+-+-+ +-+-+ +-+-+-+ +-+-+-+-+-+-+-+ +-+-+-+-+ +-+-+-+-+-+-+-+-+-+-+\n",
      "|W|e|l|c|o|m|e| |t|o| |t|h|e| |S|t|u|d|e|n|t| |D|a|t|a| |M|a|n|a|g|e|m|e|n|t|\n",
      "+-+-+-+-+-+-+-+ +-+-+ +-+-+-+ +-+-+-+-+-+-+-+ +-+-+-+-+ +-+-+-+-+-+-+-+-+-+-+\n",
      "+-+-+-+-+-+-+\n",
      "|S|y|s|t|e|m|\n",
      "+-+-+-+-+-+-+\n",
      "\u001b[0m\n"
     ]
    },
    {
     "name": "stdin",
     "output_type": "stream",
     "text": [
      "Please enter the path to the CSV file (or 'exit' to quit):  Students_data.csv\n"
     ]
    },
    {
     "name": "stdout",
     "output_type": "stream",
     "text": [
      "CSV file 'Students_data.csv' loaded successfully.\n",
      "\n",
      "Choose the correct menu:\n",
      "1. Retrieving the students data\n",
      "2. Advanced Student Data Analysis Using Pandas\n",
      "3. Visualization of the students Data\n",
      "4. Exit\n"
     ]
    },
    {
     "name": "stdin",
     "output_type": "stream",
     "text": [
      "Enter your Query (1-4):  1\n"
     ]
    },
    {
     "name": "stdout",
     "output_type": "stream",
     "text": [
      "Successfully loaded 3084 records from <_io.TextIOWrapper name='Students_data.csv' mode='r' encoding='cp1252'>.\n",
      "Select an option:\n",
      "a1. Retrieve the sex, age, number of relatives in family, state, and race based on the ID.\n",
      "a2. Retrieve the sex, school support, access internet, attendance rate, and parental involvement associated with a specific race.\n",
      "a3. Retrieve the ID, free time, math score, reading score, and writing score of students whose absences are less than 50, based on parental involvement.\n",
      "a4. Retrieve information from your chosen columns and apply a specific condition.\n",
      "a5. Exit.... To the Main Menu !!!!!\n"
     ]
    },
    {
     "name": "stdin",
     "output_type": "stream",
     "text": [
      "Enter option (a1, a2, a3, a4, a5):  a5\n"
     ]
    },
    {
     "name": "stdout",
     "output_type": "stream",
     "text": [
      "Exiting the submenu...\n",
      "\n",
      "Choose the correct menu:\n",
      "1. Retrieving the students data\n",
      "2. Advanced Student Data Analysis Using Pandas\n",
      "3. Visualization of the students Data\n",
      "4. Exit\n"
     ]
    },
    {
     "name": "stdin",
     "output_type": "stream",
     "text": [
      "Enter your Query (1-4):  2\n"
     ]
    },
    {
     "name": "stdout",
     "output_type": "stream",
     "text": [
      "Data loaded successfully.\n",
      "Data loaded successfully.\n",
      "\n",
      "Menu:\n",
      "1. Identify the top 3 levels of mother’s education for a specific race of students based on parental involvement levels.\n",
      "2. Analyze the average number of absences among students with a particular level of parental involvement.\n",
      "3. Analyze average math scores for students with attendance rate > 80% based on race.\n",
      "4. Analyze study time and math scores by sex.\n",
      "5. Exit\n"
     ]
    },
    {
     "name": "stdin",
     "output_type": "stream",
     "text": [
      "Enter your choice (1, 2, 3, 4, or 5):  5\n"
     ]
    },
    {
     "name": "stdout",
     "output_type": "stream",
     "text": [
      "Exiting the application.\n",
      "\n",
      "Choose the correct menu:\n",
      "1. Retrieving the students data\n",
      "2. Advanced Student Data Analysis Using Pandas\n",
      "3. Visualization of the students Data\n",
      "4. Exit\n"
     ]
    },
    {
     "name": "stdin",
     "output_type": "stream",
     "text": [
      "Enter your Query (1-4):  4\n"
     ]
    },
    {
     "name": "stdout",
     "output_type": "stream",
     "text": [
      "+-+-+-+-+-+ +-+-+-+-+\n",
      "|T|h|a|n|k| |Y|o|u|!|\n",
      "+-+-+-+-+-+ +-+-+-+-+\n",
      "\n",
      "Exiting the application...\n"
     ]
    }
   ],
   "source": [
    "import csv\n",
    "import sys\n",
    "from pyfiglet import Figlet\n",
    "import sub_menu  # Ensure you have sub_menu.py in the same directory\n",
    "import Pandas_submenu  # Import the Pandas_submenu module\n",
    "\n",
    "# Initialize Figlet for stylized text\n",
    "figlet = Figlet(font='digital')\n",
    "\n",
    "# Function to print black figlet text\n",
    "def print_black_figlet(text):\n",
    "    print('\\033[30m' + figlet.renderText(text) + '\\033[0m')  # 30m is the ANSI code for black\n",
    "\n",
    "def main():\n",
    "    # Display welcome message in black\n",
    "    print_black_figlet(\"Welcome to the Student Data Management System\")\n",
    "\n",
    "    while True:\n",
    "        # Get the CSV file path from the user\n",
    "        csv_file = input(\"Please enter the path to the CSV file (or 'exit' to quit): \")\n",
    "        if csv_file.lower() == 'exit':\n",
    "            print(figlet.renderText(\"Thank You!\"))\n",
    "            print(\"Exiting the application...\")\n",
    "            return  # Exit the main function instead of calling sys.exit(0)\n",
    "\n",
    "        try:\n",
    "            with open(csv_file, 'r') as file:\n",
    "                reader = csv.reader(file)\n",
    "                next(reader)  # Skip the header row\n",
    "                print(f\"CSV file '{csv_file}' loaded successfully.\")\n",
    "\n",
    "                # Display the menu options\n",
    "                def display_menu():\n",
    "                    print(\"\\nChoose the correct menu:\")\n",
    "                    print(\"1. Retrieving the students data\")\n",
    "                    print(\"2. Advanced Student Data Analysis Using Pandas\")\n",
    "                    print(\"3. Visualization of the students Data\")\n",
    "                    print(\"4. Exit\")\n",
    "\n",
    "                while True:\n",
    "                    display_menu()\n",
    "\n",
    "                    # Get user input for the chosen option\n",
    "                    try:\n",
    "                        query = int(input(\"Enter your Query (1-4): \"))\n",
    "\n",
    "                        # Handle the user's choice\n",
    "                        if query == 1:\n",
    "                            sub_menu.display_sub_menu(csv_file)\n",
    "                        elif query == 2:\n",
    "                            # Use the function directly from Pandas_submenu\n",
    "                            df = Pandas_submenu.load_data(csv_file)\n",
    "                            if df is not None:\n",
    "                                Pandas_submenu.main()  # Call the main function without arguments\n",
    "                        elif query == 3:\n",
    "                            print(\"Visualization of the students data...\")\n",
    "                            # Add code to search and display the data from the CSV file\n",
    "                        elif query == 4:\n",
    "                            print(figlet.renderText(\"Thank You!\"))\n",
    "                            print(\"Exiting the application...\")\n",
    "                            return  # Exit the main function instead of calling sys.exit(0)\n",
    "                        else:\n",
    "                            print(\"Invalid Query. Please try again.\")\n",
    "                    except ValueError:\n",
    "                        print(\"Error: Please enter a valid number (1-4).\")\n",
    "                    except KeyboardInterrupt:\n",
    "                        print(\"\\nApplication interrupted. Exiting...\")\n",
    "                        return  # Exit the main function instead of calling sys.exit(0)\n",
    "                    except Exception as e:\n",
    "                        print(f\"An error occurred: {e}\")\n",
    "                        print(\"Please try again later.\")\n",
    "\n",
    "        except FileNotFoundError:\n",
    "            print(\"Error: File not found. Please try again.\")\n",
    "        except Exception as e:\n",
    "            print(f\"An error occurred: {e}\")\n",
    "            print(\"Please try again later.\")\n",
    "\n",
    "# Ensure the script runs only when executed directly\n",
    "if __name__ == \"__main__\":\n",
    "    main()\n"
   ]
  },
  {
   "cell_type": "code",
   "execution_count": null,
   "id": "aca3c5cc-fd84-4b95-9178-009ad3433fe5",
   "metadata": {},
   "outputs": [],
   "source": []
  }
 ],
 "metadata": {
  "kernelspec": {
   "display_name": "Python 3 (ipykernel)",
   "language": "python",
   "name": "python3"
  },
  "language_info": {
   "codemirror_mode": {
    "name": "ipython",
    "version": 3
   },
   "file_extension": ".py",
   "mimetype": "text/x-python",
   "name": "python",
   "nbconvert_exporter": "python",
   "pygments_lexer": "ipython3",
   "version": "3.11.7"
  }
 },
 "nbformat": 4,
 "nbformat_minor": 5
}
