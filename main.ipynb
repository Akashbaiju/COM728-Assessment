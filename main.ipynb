{
 "cells": [
  {
   "cell_type": "code",
   "execution_count": 2,
   "id": "a1d53b48-2678-43a8-b70c-cd7189f9ddc5",
   "metadata": {},
   "outputs": [
    {
     "name": "stdout",
     "output_type": "stream",
     "text": [
      "Requirement already satisfied: pyfiglet in c:\\users\\akash\\anaconda3\\lib\\site-packages (1.0.2)\n"
     ]
    }
   ],
   "source": [
    "!pip install pyfiglet"
   ]
  },
  {
   "cell_type": "code",
   "execution_count": 20,
   "id": "68b94cc8-887d-409c-b4bf-86fb754ee0b8",
   "metadata": {},
   "outputs": [
    {
     "name": "stdout",
     "output_type": "stream",
     "text": [
      "\u001b[30m +-+-+-+-+-+-+-+ +-+-+ +-+-+-+ +-+-+-+-+-+-+-+ +-+-+-+-+ +-+-+-+-+-+-+-+-+-+-+\n",
      " |W|e|l|c|o|m|e| |t|o| |t|h|e| |S|t|u|d|e|n|t| |D|a|t|a| |M|a|n|a|g|e|m|e|n|t|\n",
      " +-+-+-+-+-+-+-+ +-+-+ +-+-+-+ +-+-+-+-+-+-+-+ +-+-+-+-+ +-+-+-+-+-+-+-+-+-+-+\n",
      "+-+-+-+-+-+-+\n",
      "|S|y|s|t|e|m|\n",
      "+-+-+-+-+-+-+\n",
      "\u001b[0m\n"
     ]
    },
    {
     "name": "stdin",
     "output_type": "stream",
     "text": [
      "Please enter the path to the CSV file (or 'exit' to quit):  Students_data.csv\n"
     ]
    },
    {
     "name": "stdout",
     "output_type": "stream",
     "text": [
      "CSV file 'Students_data.csv' loaded successfully.\n",
      "\n",
      "Choose the correct menu:\n",
      "1. Retrieving the students data\n",
      "2. Advanced Student Data Analysis Using Pandas\n",
      "3. Visualization of the students Data\n",
      "4. Exit\n"
     ]
    },
    {
     "name": "stdin",
     "output_type": "stream",
     "text": [
      "Enter your Query (1-4):  2\n"
     ]
    },
    {
     "name": "stdout",
     "output_type": "stream",
     "text": [
      "An error occurred: name 'df' is not defined\n",
      "Please try again later.\n",
      "\n",
      "Choose the correct menu:\n",
      "1. Retrieving the students data\n",
      "2. Advanced Student Data Analysis Using Pandas\n",
      "3. Visualization of the students Data\n",
      "4. Exit\n"
     ]
    },
    {
     "name": "stdin",
     "output_type": "stream",
     "text": [
      "Enter your Query (1-4):  4\n"
     ]
    },
    {
     "name": "stdout",
     "output_type": "stream",
     "text": [
      "+-+-+-+-+-+ +-+-+-+-+\n",
      "|T|h|a|n|k| |Y|o|u|!|\n",
      "+-+-+-+-+-+ +-+-+-+-+\n",
      "\n",
      "Exiting the application...\n"
     ]
    },
    {
     "ename": "SystemExit",
     "evalue": "0",
     "output_type": "error",
     "traceback": [
      "An exception has occurred, use %tb to see the full traceback.\n",
      "\u001b[1;31mSystemExit\u001b[0m\u001b[1;31m:\u001b[0m 0\n"
     ]
    }
   ],
   "source": [
    "import csv\n",
    "import sys\n",
    "from pyfiglet import Figlet\n",
    "import sub_menu  # Ensure you have sub_menu.py in the same directory\n",
    "import Pandas_module\n",
    "\n",
    "# Initialize Figlet for stylized text\n",
    "figlet = Figlet(font='digital')\n",
    "\n",
    "# Function to print black figlet text\n",
    "def print_black_figlet(text):\n",
    "    print('\\033[30m' + figlet.renderText(text) + '\\033[0m')  # 30m is the ANSI code for black\n",
    "\n",
    "# Display welcome message in black\n",
    "print_black_figlet(\" Welcome to the Student Data Management System\")\n",
    "\n",
    "while True:\n",
    "    # Get the CSV file path from the user\n",
    "    csv_file = input(\"Please enter the path to the CSV file (or 'exit' to quit): \")\n",
    "    if csv_file.lower() == 'exit':\n",
    "        print(figlet.renderText(\"Thank You!\"))\n",
    "        print(\"Exiting the application...\")\n",
    "        sys.exit(0)\n",
    "\n",
    "    try:\n",
    "        with open(csv_file, 'r') as file:\n",
    "            reader = csv.reader(file)\n",
    "            next(reader)  # Skip the header row\n",
    "            print(f\"CSV file '{csv_file}' loaded successfully.\")\n",
    "\n",
    "            # Display the menu options\n",
    "            def display_menu():\n",
    "                print(\"\\nChoose the correct menu:\")\n",
    "                print(\"1. Retrieving the students data\")\n",
    "                print(\"2. Advanced Student Data Analysis Using Pandas\")\n",
    "                print(\"3. Visualization of the students Data\")\n",
    "                print(\"4. Exit\")\n",
    "\n",
    "            while True:\n",
    "                display_menu()\n",
    "\n",
    "                # Get user input for the chosen option\n",
    "                try:\n",
    "                    query = int(input(\"Enter your Query (1-4): \"))\n",
    "\n",
    "                    # Handle the user's choice\n",
    "                    if query == 1:\n",
    "                        sub_menu.display_sub_menu(csv_file)\n",
    "                    elif query == 2:\n",
    "                        Pandas_module.load_data(csv_file)  # Corrected variable name\n",
    "                        # Add code to display the data from the CSV file\n",
    "                    elif query == 3:\n",
    "                        print(\"Visualization of the students data...\")\n",
    "                        # Add code to search and display the data from the CSV file\n",
    "                    elif query == 4:\n",
    "                        print(figlet.renderText(\"Thank You!\"))\n",
    "                        print(\"Exiting the application...\")\n",
    "                        sys.exit(0)\n",
    "                    else:\n",
    "                        print(\"Invalid Query. Please try again.\")\n",
    "                except ValueError:\n",
    "                    print(\"Error: Please enter a valid number (1-4).\")\n",
    "                except KeyboardInterrupt:\n",
    "                    print(\"\\nApplication interrupted. Exiting...\")\n",
    "                    sys.exit(0)\n",
    "                except Exception as e:\n",
    "                    print(f\"An error occurred: {e}\")\n",
    "                    print(\"Please try again later.\")\n",
    "\n",
    "    except FileNotFoundError:\n",
    "        print(\"Error: File not found. Please try again.\")\n",
    "    except Exception as e:\n",
    "        print(f\"An error occurred: {e}\")\n",
    "        print(\"Please try again later.\")\n"
   ]
  },
  {
   "cell_type": "code",
   "execution_count": 22,
   "id": "91e57f24-d52e-4576-9727-7c14b59cc287",
   "metadata": {},
   "outputs": [
    {
     "name": "stdout",
     "output_type": "stream",
     "text": [
      "\u001b[30m +-+-+-+-+-+-+-+ +-+-+ +-+-+-+ +-+-+-+-+-+-+-+ +-+-+-+-+ +-+-+-+-+-+-+-+-+-+-+\n",
      " |W|e|l|c|o|m|e| |t|o| |t|h|e| |S|t|u|d|e|n|t| |D|a|t|a| |M|a|n|a|g|e|m|e|n|t|\n",
      " +-+-+-+-+-+-+-+ +-+-+ +-+-+-+ +-+-+-+-+-+-+-+ +-+-+-+-+ +-+-+-+-+-+-+-+-+-+-+\n",
      "+-+-+-+-+-+-+\n",
      "|S|y|s|t|e|m|\n",
      "+-+-+-+-+-+-+\n",
      "\u001b[0m\n"
     ]
    },
    {
     "name": "stdin",
     "output_type": "stream",
     "text": [
      "Please enter the path to the CSV file (or 'exit' to quit):  Students_data.csv\n"
     ]
    },
    {
     "name": "stdout",
     "output_type": "stream",
     "text": [
      "CSV file 'Students_data.csv' loaded successfully.\n",
      "Data loaded successfully.\n",
      "\n",
      "Choose the correct menu:\n",
      "1. Retrieving the students data\n",
      "2. Advanced Student Data Analysis Using Pandas\n",
      "3. Visualization of the students Data\n",
      "4. Exit\n"
     ]
    },
    {
     "name": "stdin",
     "output_type": "stream",
     "text": [
      "Enter your Query (1-4):  2\n"
     ]
    },
    {
     "name": "stdout",
     "output_type": "stream",
     "text": [
      "\n",
      "Advanced Student Data Analysis Using Pandas:\n",
      "1. Identify the top 3 levels of mother’s education by race and parental involvement.\n",
      "2. Analyze the average number of absences based on parental involvement.\n",
      "3. Analyze average math scores for students with attendance rate > 80% based on race.\n",
      "4. Analyze study time and math scores by sex.\n"
     ]
    },
    {
     "name": "stdin",
     "output_type": "stream",
     "text": [
      "Enter your choice (1-4):  4\n",
      "Enter the sex to analyze (as it appears in the data):  Male\n"
     ]
    },
    {
     "name": "stdout",
     "output_type": "stream",
     "text": [
      "===================================================================================================================\n",
      "Average Math Score for Male students who study more than 2 hours: 49.76612377850163\n",
      "Correlation between Studytime and Math Score for Male students: -0.011869566524000985\n",
      "===================================================================================================================\n",
      "\n",
      "Choose the correct menu:\n",
      "1. Retrieving the students data\n",
      "2. Advanced Student Data Analysis Using Pandas\n",
      "3. Visualization of the students Data\n",
      "4. Exit\n"
     ]
    },
    {
     "name": "stdin",
     "output_type": "stream",
     "text": [
      "Enter your Query (1-4):  4\n"
     ]
    },
    {
     "name": "stdout",
     "output_type": "stream",
     "text": [
      "+-+-+-+-+-+ +-+-+-+-+\n",
      "|T|h|a|n|k| |Y|o|u|!|\n",
      "+-+-+-+-+-+ +-+-+-+-+\n",
      "\n",
      "Exiting the application...\n"
     ]
    }
   ],
   "source": [
    "import csv\n",
    "import sys\n",
    "from pyfiglet import Figlet\n",
    "import sub_menu\n",
    "import Pandas_module\n",
    "\n",
    "# Initialize Figlet for stylized text\n",
    "figlet = Figlet(font='digital')\n",
    "\n",
    "def print_black_figlet(text):\n",
    "    print('\\033[30m' + figlet.renderText(text) + '\\033[0m')\n",
    "\n",
    "def main():\n",
    "    print_black_figlet(\" Welcome to the Student Data Management System\")\n",
    "\n",
    "    while True:\n",
    "        csv_file = input(\"Please enter the path to the CSV file (or 'exit' to quit): \")\n",
    "        if csv_file.lower() == 'exit':\n",
    "            print(figlet.renderText(\"Thank You!\"))\n",
    "            print(\"Exiting the application...\")\n",
    "            return  # Use return instead of sys.exit()\n",
    "\n",
    "        try:\n",
    "            with open(csv_file, 'r') as file:\n",
    "                reader = csv.reader(file)\n",
    "                next(reader)  # Skip the header row\n",
    "                print(f\"CSV file '{csv_file}' loaded successfully.\")\n",
    "\n",
    "                df = Pandas_module.load_data(csv_file)\n",
    "                if df is None:\n",
    "                    print(\"Failed to load data. Exiting...\")\n",
    "                    return\n",
    "\n",
    "                while True:\n",
    "                    display_menu()\n",
    "\n",
    "                    try:\n",
    "                        query = int(input(\"Enter your Query (1-4): \"))\n",
    "\n",
    "                        if query == 1:\n",
    "                            sub_menu.display_sub_menu(csv_file)\n",
    "                        elif query == 2:\n",
    "                            print(\"\\nAdvanced Student Data Analysis Using Pandas:\")\n",
    "                            print(\"1. Identify the top 3 levels of mother’s education by race and parental involvement.\")\n",
    "                            print(\"2. Analyze the average number of absences based on parental involvement.\")\n",
    "                            print(\"3. Analyze average math scores for students with attendance rate > 80% based on race.\")\n",
    "                            print(\"4. Analyze study time and math scores by sex.\")\n",
    "                            sub_query = input(\"Enter your choice (1-4): \").strip()\n",
    "\n",
    "                            if sub_query == '1':\n",
    "                                race = input(\"Enter the race you're interested in: \").strip().lower()\n",
    "                                parental_involvement_level = input(\"Enter the parental involvement level (e.g., high, medium, low): \").strip()\n",
    "                                top_education_levels = Pandas_module.top_mother_education_by_race(df, race, parental_involvement_level)\n",
    "                                print(\"===================================================================================================================\")\n",
    "                                if not top_education_levels.empty:\n",
    "                                    print(f\"Top 3 Mother's Education Levels for race '{race}' with '{parental_involvement_level}' parental involvement:\")\n",
    "                                    print(top_education_levels)\n",
    "                                else:\n",
    "                                    print(f\"No data available for race '{race}' with '{parental_involvement_level}' parental involvement.\")\n",
    "                                print(\"===================================================================================================================\")\n",
    "\n",
    "                            elif sub_query == '2':\n",
    "                                parental_involvement_level = input(\"Enter the parental involvement level (e.g., high, medium, low): \").strip()\n",
    "                                average_absences = Pandas_module.calculate_average_absences(df, parental_involvement_level)\n",
    "                                print(\"===================================================================================================================\")\n",
    "                                if average_absences is not None:\n",
    "                                    print(f\"The average number of absences for students with '{parental_involvement_level}' parental involvement is: {average_absences:.2f}\")\n",
    "                                else:\n",
    "                                    print(f\"No data available for parental involvement level '{parental_involvement_level}'.\")\n",
    "                                print(\"===================================================================================================================\")\n",
    "\n",
    "                            elif sub_query == '3':\n",
    "                                Pandas_module.analyze_math_scores_by_race(df)\n",
    "\n",
    "                            elif sub_query == '4':\n",
    "                                Pandas_module.analyze_studytime_by_sex(df)\n",
    "\n",
    "                            else:\n",
    "                                print(\"Invalid choice. Please select a valid option.\")\n",
    "                            \n",
    "                        elif query == 3:\n",
    "                            print(\"Visualization of the students data...\")\n",
    "                            # Add code to visualize the data from the CSV file\n",
    "                        elif query == 4:\n",
    "                            print(figlet.renderText(\"Thank You!\"))\n",
    "                            print(\"Exiting the application...\")\n",
    "                            return  # Use return instead of sys.exit()\n",
    "                        else:\n",
    "                            print(\"Invalid Query. Please try again.\")\n",
    "                    except ValueError:\n",
    "                        print(\"Error: Please enter a valid number (1-4).\")\n",
    "                    except KeyboardInterrupt:\n",
    "                        print(\"\\nApplication interrupted. Exiting...\")\n",
    "                        return\n",
    "                    except Exception as e:\n",
    "                        print(f\"An error occurred: {e}\")\n",
    "                        print(\"Please try again later.\")\n",
    "\n",
    "        except FileNotFoundError:\n",
    "            print(\"Error: File not found. Please try again.\")\n",
    "        except Exception as e:\n",
    "            print(f\"An error occurred: {e}\")\n",
    "            print(\"Please try again later.\")\n",
    "\n",
    "if __name__ == \"__main__\":\n",
    "    main()\n"
   ]
  },
  {
   "cell_type": "code",
   "execution_count": null,
   "id": "79ee3230-3dc1-4493-9f02-5cbc281a1ef9",
   "metadata": {},
   "outputs": [],
   "source": []
  }
 ],
 "metadata": {
  "kernelspec": {
   "display_name": "Python 3 (ipykernel)",
   "language": "python",
   "name": "python3"
  },
  "language_info": {
   "codemirror_mode": {
    "name": "ipython",
    "version": 3
   },
   "file_extension": ".py",
   "mimetype": "text/x-python",
   "name": "python",
   "nbconvert_exporter": "python",
   "pygments_lexer": "ipython3",
   "version": "3.11.7"
  }
 },
 "nbformat": 4,
 "nbformat_minor": 5
}
